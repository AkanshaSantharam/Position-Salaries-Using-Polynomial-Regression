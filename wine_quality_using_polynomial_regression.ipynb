{
  "nbformat": 4,
  "nbformat_minor": 0,
  "metadata": {
    "colab": {
      "name": "wine_quality_using_polynomial_regression.ipynb",
      "provenance": [],
      "collapsed_sections": []
    },
    "kernelspec": {
      "name": "python3",
      "display_name": "Python 3"
    },
    "language_info": {
      "name": "python"
    }
  },
  "cells": [
    {
      "cell_type": "code",
      "metadata": {
        "id": "MNDl5NcELqvZ",
        "colab": {
          "base_uri": "https://localhost:8080/"
        },
        "outputId": "37fa98ea-978e-423b-d149-bc3485b7c4e3"
      },
      "source": [
        "# import modules\n",
        "import numpy as np\n",
        "import pandas as pd\n",
        " \n",
        "import matplotlib.pyplot as plt\n",
        "import seaborn as sns\n",
        " \n",
        "from sklearn.model_selection import train_test_split\n",
        "from sklearn.linear_model import LogisticRegression\n",
        " \n",
        "from sklearn.preprocessing import PolynomialFeatures\n",
        "from sklearn.preprocessing import StandardScaler\n",
        "from imblearn.over_sampling import SMOTE"
      ],
      "execution_count": 1,
      "outputs": [
        {
          "output_type": "stream",
          "name": "stderr",
          "text": [
            "/usr/local/lib/python3.7/dist-packages/sklearn/externals/six.py:31: FutureWarning: The module is deprecated in version 0.21 and will be removed in version 0.23 since we've dropped support for Python 2.7. Please rely on the official version of six (https://pypi.org/project/six/).\n",
            "  \"(https://pypi.org/project/six/).\", FutureWarning)\n",
            "/usr/local/lib/python3.7/dist-packages/sklearn/utils/deprecation.py:144: FutureWarning: The sklearn.neighbors.base module is  deprecated in version 0.22 and will be removed in version 0.24. The corresponding classes / functions should instead be imported from sklearn.neighbors. Anything that cannot be imported from sklearn.neighbors is now part of the private API.\n",
            "  warnings.warn(message, FutureWarning)\n"
          ]
        }
      ]
    },
    {
      "cell_type": "code",
      "metadata": {
        "colab": {
          "base_uri": "https://localhost:8080/",
          "height": 203
        },
        "id": "8u1AggkdMGNV",
        "outputId": "fae0684f-7542-4b61-afdd-7dccac43b9bb"
      },
      "source": [
        "# load dataset\n",
        "df = pd.read_csv(\"winequality.csv\")\n",
        "df.head()"
      ],
      "execution_count": 2,
      "outputs": [
        {
          "output_type": "execute_result",
          "data": {
            "text/html": [
              "<div>\n",
              "<style scoped>\n",
              "    .dataframe tbody tr th:only-of-type {\n",
              "        vertical-align: middle;\n",
              "    }\n",
              "\n",
              "    .dataframe tbody tr th {\n",
              "        vertical-align: top;\n",
              "    }\n",
              "\n",
              "    .dataframe thead th {\n",
              "        text-align: right;\n",
              "    }\n",
              "</style>\n",
              "<table border=\"1\" class=\"dataframe\">\n",
              "  <thead>\n",
              "    <tr style=\"text-align: right;\">\n",
              "      <th></th>\n",
              "      <th>fixed acidity</th>\n",
              "      <th>volatile acidity</th>\n",
              "      <th>citric acid</th>\n",
              "      <th>residual sugar</th>\n",
              "      <th>chlorides</th>\n",
              "      <th>free sulfur dioxide</th>\n",
              "      <th>total sulfur dioxide</th>\n",
              "      <th>density</th>\n",
              "      <th>pH</th>\n",
              "      <th>sulphates</th>\n",
              "      <th>alcohol</th>\n",
              "      <th>quality</th>\n",
              "    </tr>\n",
              "  </thead>\n",
              "  <tbody>\n",
              "    <tr>\n",
              "      <th>0</th>\n",
              "      <td>7.4</td>\n",
              "      <td>0.70</td>\n",
              "      <td>0.00</td>\n",
              "      <td>1.9</td>\n",
              "      <td>0.076</td>\n",
              "      <td>11.0</td>\n",
              "      <td>34.0</td>\n",
              "      <td>0.9978</td>\n",
              "      <td>3.51</td>\n",
              "      <td>0.56</td>\n",
              "      <td>9.4</td>\n",
              "      <td>5</td>\n",
              "    </tr>\n",
              "    <tr>\n",
              "      <th>1</th>\n",
              "      <td>7.8</td>\n",
              "      <td>0.88</td>\n",
              "      <td>0.00</td>\n",
              "      <td>2.6</td>\n",
              "      <td>0.098</td>\n",
              "      <td>25.0</td>\n",
              "      <td>67.0</td>\n",
              "      <td>0.9968</td>\n",
              "      <td>3.20</td>\n",
              "      <td>0.68</td>\n",
              "      <td>9.8</td>\n",
              "      <td>5</td>\n",
              "    </tr>\n",
              "    <tr>\n",
              "      <th>2</th>\n",
              "      <td>7.8</td>\n",
              "      <td>0.76</td>\n",
              "      <td>0.04</td>\n",
              "      <td>2.3</td>\n",
              "      <td>0.092</td>\n",
              "      <td>15.0</td>\n",
              "      <td>54.0</td>\n",
              "      <td>0.9970</td>\n",
              "      <td>3.26</td>\n",
              "      <td>0.65</td>\n",
              "      <td>9.8</td>\n",
              "      <td>5</td>\n",
              "    </tr>\n",
              "    <tr>\n",
              "      <th>3</th>\n",
              "      <td>11.2</td>\n",
              "      <td>0.28</td>\n",
              "      <td>0.56</td>\n",
              "      <td>1.9</td>\n",
              "      <td>0.075</td>\n",
              "      <td>17.0</td>\n",
              "      <td>60.0</td>\n",
              "      <td>0.9980</td>\n",
              "      <td>3.16</td>\n",
              "      <td>0.58</td>\n",
              "      <td>9.8</td>\n",
              "      <td>6</td>\n",
              "    </tr>\n",
              "    <tr>\n",
              "      <th>4</th>\n",
              "      <td>7.4</td>\n",
              "      <td>0.70</td>\n",
              "      <td>0.00</td>\n",
              "      <td>1.9</td>\n",
              "      <td>0.076</td>\n",
              "      <td>11.0</td>\n",
              "      <td>34.0</td>\n",
              "      <td>0.9978</td>\n",
              "      <td>3.51</td>\n",
              "      <td>0.56</td>\n",
              "      <td>9.4</td>\n",
              "      <td>5</td>\n",
              "    </tr>\n",
              "  </tbody>\n",
              "</table>\n",
              "</div>"
            ],
            "text/plain": [
              "   fixed acidity  volatile acidity  citric acid  ...  sulphates  alcohol  quality\n",
              "0            7.4              0.70         0.00  ...       0.56      9.4        5\n",
              "1            7.8              0.88         0.00  ...       0.68      9.8        5\n",
              "2            7.8              0.76         0.04  ...       0.65      9.8        5\n",
              "3           11.2              0.28         0.56  ...       0.58      9.8        6\n",
              "4            7.4              0.70         0.00  ...       0.56      9.4        5\n",
              "\n",
              "[5 rows x 12 columns]"
            ]
          },
          "metadata": {},
          "execution_count": 2
        }
      ]
    },
    {
      "cell_type": "code",
      "metadata": {
        "colab": {
          "base_uri": "https://localhost:8080/"
        },
        "id": "8j7cmJWFP652",
        "outputId": "45187940-af72-4ef2-f9ac-e4aa52ec4acf"
      },
      "source": [
        "df.info()"
      ],
      "execution_count": 3,
      "outputs": [
        {
          "output_type": "stream",
          "name": "stdout",
          "text": [
            "<class 'pandas.core.frame.DataFrame'>\n",
            "RangeIndex: 1599 entries, 0 to 1598\n",
            "Data columns (total 12 columns):\n",
            " #   Column                Non-Null Count  Dtype  \n",
            "---  ------                --------------  -----  \n",
            " 0   fixed acidity         1599 non-null   float64\n",
            " 1   volatile acidity      1599 non-null   float64\n",
            " 2   citric acid           1599 non-null   float64\n",
            " 3   residual sugar        1599 non-null   float64\n",
            " 4   chlorides             1599 non-null   float64\n",
            " 5   free sulfur dioxide   1599 non-null   float64\n",
            " 6   total sulfur dioxide  1599 non-null   float64\n",
            " 7   density               1599 non-null   float64\n",
            " 8   pH                    1599 non-null   float64\n",
            " 9   sulphates             1599 non-null   float64\n",
            " 10  alcohol               1599 non-null   float64\n",
            " 11  quality               1599 non-null   int64  \n",
            "dtypes: float64(11), int64(1)\n",
            "memory usage: 150.0 KB\n"
          ]
        }
      ]
    },
    {
      "cell_type": "code",
      "metadata": {
        "id": "cVyTNiiZr9ET"
      },
      "source": [
        "X=df.drop('quality',axis=1)\n",
        "y=df['quality']"
      ],
      "execution_count": 4,
      "outputs": []
    },
    {
      "cell_type": "code",
      "metadata": {
        "id": "rEojwQXh6ZzM"
      },
      "source": [
        "import warnings\n",
        "warnings.filterwarnings('ignore')"
      ],
      "execution_count": 5,
      "outputs": []
    },
    {
      "cell_type": "code",
      "metadata": {
        "id": "MyqE5xtDOoPP"
      },
      "source": [
        "# Upsampling the values\n",
        "over = SMOTE()\n",
        "ox, oy = over.fit_resample(X, y)"
      ],
      "execution_count": 6,
      "outputs": []
    },
    {
      "cell_type": "code",
      "metadata": {
        "colab": {
          "base_uri": "https://localhost:8080/",
          "height": 203
        },
        "id": "BKVUURjaOa6n",
        "outputId": "ecbb4d82-3329-49a4-8883-2448f78844c9"
      },
      "source": [
        "# Creating new resampled dataframe.\n",
        "new_X = pd.DataFrame(ox)\n",
        "new_y = pd.Series(oy)\n",
        "\n",
        "new_df = pd.concat([new_X, new_y], axis=1)\n",
        "new_df.columns = df.columns\n",
        "new_df.head()"
      ],
      "execution_count": 7,
      "outputs": [
        {
          "output_type": "execute_result",
          "data": {
            "text/html": [
              "<div>\n",
              "<style scoped>\n",
              "    .dataframe tbody tr th:only-of-type {\n",
              "        vertical-align: middle;\n",
              "    }\n",
              "\n",
              "    .dataframe tbody tr th {\n",
              "        vertical-align: top;\n",
              "    }\n",
              "\n",
              "    .dataframe thead th {\n",
              "        text-align: right;\n",
              "    }\n",
              "</style>\n",
              "<table border=\"1\" class=\"dataframe\">\n",
              "  <thead>\n",
              "    <tr style=\"text-align: right;\">\n",
              "      <th></th>\n",
              "      <th>fixed acidity</th>\n",
              "      <th>volatile acidity</th>\n",
              "      <th>citric acid</th>\n",
              "      <th>residual sugar</th>\n",
              "      <th>chlorides</th>\n",
              "      <th>free sulfur dioxide</th>\n",
              "      <th>total sulfur dioxide</th>\n",
              "      <th>density</th>\n",
              "      <th>pH</th>\n",
              "      <th>sulphates</th>\n",
              "      <th>alcohol</th>\n",
              "      <th>quality</th>\n",
              "    </tr>\n",
              "  </thead>\n",
              "  <tbody>\n",
              "    <tr>\n",
              "      <th>0</th>\n",
              "      <td>7.4</td>\n",
              "      <td>0.70</td>\n",
              "      <td>0.00</td>\n",
              "      <td>1.9</td>\n",
              "      <td>0.076</td>\n",
              "      <td>11.0</td>\n",
              "      <td>34.0</td>\n",
              "      <td>0.9978</td>\n",
              "      <td>3.51</td>\n",
              "      <td>0.56</td>\n",
              "      <td>9.4</td>\n",
              "      <td>5</td>\n",
              "    </tr>\n",
              "    <tr>\n",
              "      <th>1</th>\n",
              "      <td>7.8</td>\n",
              "      <td>0.88</td>\n",
              "      <td>0.00</td>\n",
              "      <td>2.6</td>\n",
              "      <td>0.098</td>\n",
              "      <td>25.0</td>\n",
              "      <td>67.0</td>\n",
              "      <td>0.9968</td>\n",
              "      <td>3.20</td>\n",
              "      <td>0.68</td>\n",
              "      <td>9.8</td>\n",
              "      <td>5</td>\n",
              "    </tr>\n",
              "    <tr>\n",
              "      <th>2</th>\n",
              "      <td>7.8</td>\n",
              "      <td>0.76</td>\n",
              "      <td>0.04</td>\n",
              "      <td>2.3</td>\n",
              "      <td>0.092</td>\n",
              "      <td>15.0</td>\n",
              "      <td>54.0</td>\n",
              "      <td>0.9970</td>\n",
              "      <td>3.26</td>\n",
              "      <td>0.65</td>\n",
              "      <td>9.8</td>\n",
              "      <td>5</td>\n",
              "    </tr>\n",
              "    <tr>\n",
              "      <th>3</th>\n",
              "      <td>11.2</td>\n",
              "      <td>0.28</td>\n",
              "      <td>0.56</td>\n",
              "      <td>1.9</td>\n",
              "      <td>0.075</td>\n",
              "      <td>17.0</td>\n",
              "      <td>60.0</td>\n",
              "      <td>0.9980</td>\n",
              "      <td>3.16</td>\n",
              "      <td>0.58</td>\n",
              "      <td>9.8</td>\n",
              "      <td>6</td>\n",
              "    </tr>\n",
              "    <tr>\n",
              "      <th>4</th>\n",
              "      <td>7.4</td>\n",
              "      <td>0.70</td>\n",
              "      <td>0.00</td>\n",
              "      <td>1.9</td>\n",
              "      <td>0.076</td>\n",
              "      <td>11.0</td>\n",
              "      <td>34.0</td>\n",
              "      <td>0.9978</td>\n",
              "      <td>3.51</td>\n",
              "      <td>0.56</td>\n",
              "      <td>9.4</td>\n",
              "      <td>5</td>\n",
              "    </tr>\n",
              "  </tbody>\n",
              "</table>\n",
              "</div>"
            ],
            "text/plain": [
              "   fixed acidity  volatile acidity  citric acid  ...  sulphates  alcohol  quality\n",
              "0            7.4              0.70         0.00  ...       0.56      9.4        5\n",
              "1            7.8              0.88         0.00  ...       0.68      9.8        5\n",
              "2            7.8              0.76         0.04  ...       0.65      9.8        5\n",
              "3           11.2              0.28         0.56  ...       0.58      9.8        6\n",
              "4            7.4              0.70         0.00  ...       0.56      9.4        5\n",
              "\n",
              "[5 rows x 12 columns]"
            ]
          },
          "metadata": {},
          "execution_count": 7
        }
      ]
    },
    {
      "cell_type": "code",
      "metadata": {
        "colab": {
          "base_uri": "https://localhost:8080/"
        },
        "id": "KaDWpCujQN0s",
        "outputId": "55c4beab-4f09-455d-b895-d388c1c5f2d7"
      },
      "source": [
        "new_df.info()"
      ],
      "execution_count": 8,
      "outputs": [
        {
          "output_type": "stream",
          "name": "stdout",
          "text": [
            "<class 'pandas.core.frame.DataFrame'>\n",
            "RangeIndex: 4086 entries, 0 to 4085\n",
            "Data columns (total 12 columns):\n",
            " #   Column                Non-Null Count  Dtype  \n",
            "---  ------                --------------  -----  \n",
            " 0   fixed acidity         4086 non-null   float64\n",
            " 1   volatile acidity      4086 non-null   float64\n",
            " 2   citric acid           4086 non-null   float64\n",
            " 3   residual sugar        4086 non-null   float64\n",
            " 4   chlorides             4086 non-null   float64\n",
            " 5   free sulfur dioxide   4086 non-null   float64\n",
            " 6   total sulfur dioxide  4086 non-null   float64\n",
            " 7   density               4086 non-null   float64\n",
            " 8   pH                    4086 non-null   float64\n",
            " 9   sulphates             4086 non-null   float64\n",
            " 10  alcohol               4086 non-null   float64\n",
            " 11  quality               4086 non-null   int64  \n",
            "dtypes: float64(11), int64(1)\n",
            "memory usage: 383.2 KB\n"
          ]
        }
      ]
    },
    {
      "cell_type": "code",
      "metadata": {
        "id": "b3XvXrlkPHT8"
      },
      "source": [
        "# Split data into train test\n",
        "X = new_df.drop(columns='quality',axis=1)\n",
        "y = new_df['quality']\n",
        "\n",
        "X_train, X_test, y_train, y_test = train_test_split(X, y, test_size=0.2, random_state=42, stratify=y)"
      ],
      "execution_count": 9,
      "outputs": []
    },
    {
      "cell_type": "code",
      "metadata": {
        "colab": {
          "base_uri": "https://localhost:8080/"
        },
        "id": "MRrU6muyRInQ",
        "outputId": "d95dd741-ef8e-4e9e-e068-bd2a5750be85"
      },
      "source": [
        "y_train.value_counts()"
      ],
      "execution_count": 10,
      "outputs": [
        {
          "output_type": "execute_result",
          "data": {
            "text/plain": [
              "5    545\n",
              "3    545\n",
              "8    545\n",
              "4    545\n",
              "7    544\n",
              "6    544\n",
              "Name: quality, dtype: int64"
            ]
          },
          "metadata": {},
          "execution_count": 10
        }
      ]
    },
    {
      "cell_type": "code",
      "metadata": {
        "colab": {
          "base_uri": "https://localhost:8080/"
        },
        "id": "akYjdE9fRXwG",
        "outputId": "b86f2ecd-013b-47a6-972a-33f1a900da9a"
      },
      "source": [
        "y_test.value_counts()"
      ],
      "execution_count": 11,
      "outputs": [
        {
          "output_type": "execute_result",
          "data": {
            "text/plain": [
              "7    137\n",
              "6    137\n",
              "8    136\n",
              "5    136\n",
              "4    136\n",
              "3    136\n",
              "Name: quality, dtype: int64"
            ]
          },
          "metadata": {},
          "execution_count": 11
        }
      ]
    },
    {
      "cell_type": "code",
      "metadata": {
        "id": "09zNBiJ1cGUj"
      },
      "source": [
        "standard=StandardScaler()\n",
        "X_train[X_train.columns]=standard.fit_transform(X_train[X_train.columns])\n",
        "X_test[X_test.columns]=standard.fit_transform(X_test[X_test.columns])"
      ],
      "execution_count": 12,
      "outputs": []
    },
    {
      "cell_type": "code",
      "metadata": {
        "colab": {
          "base_uri": "https://localhost:8080/",
          "height": 295
        },
        "id": "LBxCfKT7_qrb",
        "outputId": "f4cba27f-5965-4c6f-a464-48561f549985"
      },
      "source": [
        "X_train.describe()"
      ],
      "execution_count": 13,
      "outputs": [
        {
          "output_type": "execute_result",
          "data": {
            "text/html": [
              "<div>\n",
              "<style scoped>\n",
              "    .dataframe tbody tr th:only-of-type {\n",
              "        vertical-align: middle;\n",
              "    }\n",
              "\n",
              "    .dataframe tbody tr th {\n",
              "        vertical-align: top;\n",
              "    }\n",
              "\n",
              "    .dataframe thead th {\n",
              "        text-align: right;\n",
              "    }\n",
              "</style>\n",
              "<table border=\"1\" class=\"dataframe\">\n",
              "  <thead>\n",
              "    <tr style=\"text-align: right;\">\n",
              "      <th></th>\n",
              "      <th>fixed acidity</th>\n",
              "      <th>volatile acidity</th>\n",
              "      <th>citric acid</th>\n",
              "      <th>residual sugar</th>\n",
              "      <th>chlorides</th>\n",
              "      <th>free sulfur dioxide</th>\n",
              "      <th>total sulfur dioxide</th>\n",
              "      <th>density</th>\n",
              "      <th>pH</th>\n",
              "      <th>sulphates</th>\n",
              "      <th>alcohol</th>\n",
              "    </tr>\n",
              "  </thead>\n",
              "  <tbody>\n",
              "    <tr>\n",
              "      <th>count</th>\n",
              "      <td>3.268000e+03</td>\n",
              "      <td>3.268000e+03</td>\n",
              "      <td>3.268000e+03</td>\n",
              "      <td>3.268000e+03</td>\n",
              "      <td>3.268000e+03</td>\n",
              "      <td>3.268000e+03</td>\n",
              "      <td>3.268000e+03</td>\n",
              "      <td>3.268000e+03</td>\n",
              "      <td>3.268000e+03</td>\n",
              "      <td>3.268000e+03</td>\n",
              "      <td>3.268000e+03</td>\n",
              "    </tr>\n",
              "    <tr>\n",
              "      <th>mean</th>\n",
              "      <td>-4.144651e-16</td>\n",
              "      <td>-3.369228e-16</td>\n",
              "      <td>-8.211166e-17</td>\n",
              "      <td>5.418622e-17</td>\n",
              "      <td>1.940342e-16</td>\n",
              "      <td>1.015100e-16</td>\n",
              "      <td>7.158017e-17</td>\n",
              "      <td>-4.530709e-14</td>\n",
              "      <td>-2.982790e-15</td>\n",
              "      <td>4.752420e-16</td>\n",
              "      <td>-2.223249e-15</td>\n",
              "    </tr>\n",
              "    <tr>\n",
              "      <th>std</th>\n",
              "      <td>1.000153e+00</td>\n",
              "      <td>1.000153e+00</td>\n",
              "      <td>1.000153e+00</td>\n",
              "      <td>1.000153e+00</td>\n",
              "      <td>1.000153e+00</td>\n",
              "      <td>1.000153e+00</td>\n",
              "      <td>1.000153e+00</td>\n",
              "      <td>1.000153e+00</td>\n",
              "      <td>1.000153e+00</td>\n",
              "      <td>1.000153e+00</td>\n",
              "      <td>1.000153e+00</td>\n",
              "    </tr>\n",
              "    <tr>\n",
              "      <th>min</th>\n",
              "      <td>-2.272741e+00</td>\n",
              "      <td>-1.906074e+00</td>\n",
              "      <td>-1.348243e+00</td>\n",
              "      <td>-1.357541e+00</td>\n",
              "      <td>-1.713968e+00</td>\n",
              "      <td>-1.276222e+00</td>\n",
              "      <td>-1.059787e+00</td>\n",
              "      <td>-3.412020e+00</td>\n",
              "      <td>-3.656064e+00</td>\n",
              "      <td>-2.102746e+00</td>\n",
              "      <td>-1.935745e+00</td>\n",
              "    </tr>\n",
              "    <tr>\n",
              "      <th>25%</th>\n",
              "      <td>-7.091885e-01</td>\n",
              "      <td>-8.049561e-01</td>\n",
              "      <td>-9.805708e-01</td>\n",
              "      <td>-5.197716e-01</td>\n",
              "      <td>-4.286876e-01</td>\n",
              "      <td>-7.724695e-01</td>\n",
              "      <td>-7.387014e-01</td>\n",
              "      <td>-5.900411e-01</td>\n",
              "      <td>-6.999464e-01</td>\n",
              "      <td>-6.998130e-01</td>\n",
              "      <td>-8.125815e-01</td>\n",
              "    </tr>\n",
              "    <tr>\n",
              "      <th>50%</th>\n",
              "      <td>-2.280955e-01</td>\n",
              "      <td>-1.524419e-01</td>\n",
              "      <td>-2.009039e-02</td>\n",
              "      <td>-3.118700e-01</td>\n",
              "      <td>-2.302872e-01</td>\n",
              "      <td>-3.065151e-01</td>\n",
              "      <td>-3.331196e-01</td>\n",
              "      <td>1.253734e-02</td>\n",
              "      <td>-5.685132e-02</td>\n",
              "      <td>-1.896555e-01</td>\n",
              "      <td>-1.570203e-01</td>\n",
              "    </tr>\n",
              "    <tr>\n",
              "      <th>75%</th>\n",
              "      <td>6.450355e-01</td>\n",
              "      <td>5.408544e-01</td>\n",
              "      <td>8.236507e-01</td>\n",
              "      <td>1.278220e-01</td>\n",
              "      <td>6.462963e-02</td>\n",
              "      <td>4.246257e-01</td>\n",
              "      <td>3.889130e-01</td>\n",
              "      <td>6.060798e-01</td>\n",
              "      <td>6.582730e-01</td>\n",
              "      <td>5.340894e-01</td>\n",
              "      <td>6.464247e-01</td>\n",
              "    </tr>\n",
              "    <tr>\n",
              "      <th>max</th>\n",
              "      <td>4.522698e+00</td>\n",
              "      <td>4.048118e+00</td>\n",
              "      <td>3.473393e+00</td>\n",
              "      <td>1.038615e+01</td>\n",
              "      <td>1.161481e+01</td>\n",
              "      <td>6.085664e+00</td>\n",
              "      <td>8.701689e+00</td>\n",
              "      <td>3.778114e+00</td>\n",
              "      <td>4.402999e+00</td>\n",
              "      <td>8.385092e+00</td>\n",
              "      <td>3.522562e+00</td>\n",
              "    </tr>\n",
              "  </tbody>\n",
              "</table>\n",
              "</div>"
            ],
            "text/plain": [
              "       fixed acidity  volatile acidity  ...     sulphates       alcohol\n",
              "count   3.268000e+03      3.268000e+03  ...  3.268000e+03  3.268000e+03\n",
              "mean   -4.144651e-16     -3.369228e-16  ...  4.752420e-16 -2.223249e-15\n",
              "std     1.000153e+00      1.000153e+00  ...  1.000153e+00  1.000153e+00\n",
              "min    -2.272741e+00     -1.906074e+00  ... -2.102746e+00 -1.935745e+00\n",
              "25%    -7.091885e-01     -8.049561e-01  ... -6.998130e-01 -8.125815e-01\n",
              "50%    -2.280955e-01     -1.524419e-01  ... -1.896555e-01 -1.570203e-01\n",
              "75%     6.450355e-01      5.408544e-01  ...  5.340894e-01  6.464247e-01\n",
              "max     4.522698e+00      4.048118e+00  ...  8.385092e+00  3.522562e+00\n",
              "\n",
              "[8 rows x 11 columns]"
            ]
          },
          "metadata": {},
          "execution_count": 13
        }
      ]
    },
    {
      "cell_type": "code",
      "metadata": {
        "colab": {
          "base_uri": "https://localhost:8080/",
          "height": 295
        },
        "id": "CmVobPKJ_tTE",
        "outputId": "c2e0f7be-8d66-4164-f792-aae01f8c6389"
      },
      "source": [
        "X_test.describe()"
      ],
      "execution_count": 14,
      "outputs": [
        {
          "output_type": "execute_result",
          "data": {
            "text/html": [
              "<div>\n",
              "<style scoped>\n",
              "    .dataframe tbody tr th:only-of-type {\n",
              "        vertical-align: middle;\n",
              "    }\n",
              "\n",
              "    .dataframe tbody tr th {\n",
              "        vertical-align: top;\n",
              "    }\n",
              "\n",
              "    .dataframe thead th {\n",
              "        text-align: right;\n",
              "    }\n",
              "</style>\n",
              "<table border=\"1\" class=\"dataframe\">\n",
              "  <thead>\n",
              "    <tr style=\"text-align: right;\">\n",
              "      <th></th>\n",
              "      <th>fixed acidity</th>\n",
              "      <th>volatile acidity</th>\n",
              "      <th>citric acid</th>\n",
              "      <th>residual sugar</th>\n",
              "      <th>chlorides</th>\n",
              "      <th>free sulfur dioxide</th>\n",
              "      <th>total sulfur dioxide</th>\n",
              "      <th>density</th>\n",
              "      <th>pH</th>\n",
              "      <th>sulphates</th>\n",
              "      <th>alcohol</th>\n",
              "    </tr>\n",
              "  </thead>\n",
              "  <tbody>\n",
              "    <tr>\n",
              "      <th>count</th>\n",
              "      <td>8.180000e+02</td>\n",
              "      <td>8.180000e+02</td>\n",
              "      <td>8.180000e+02</td>\n",
              "      <td>8.180000e+02</td>\n",
              "      <td>8.180000e+02</td>\n",
              "      <td>8.180000e+02</td>\n",
              "      <td>8.180000e+02</td>\n",
              "      <td>8.180000e+02</td>\n",
              "      <td>8.180000e+02</td>\n",
              "      <td>8.180000e+02</td>\n",
              "      <td>8.180000e+02</td>\n",
              "    </tr>\n",
              "    <tr>\n",
              "      <th>mean</th>\n",
              "      <td>5.192804e-16</td>\n",
              "      <td>-2.267949e-16</td>\n",
              "      <td>-1.243233e-16</td>\n",
              "      <td>4.365565e-16</td>\n",
              "      <td>-5.598619e-17</td>\n",
              "      <td>-9.093514e-17</td>\n",
              "      <td>1.769842e-16</td>\n",
              "      <td>-3.573289e-14</td>\n",
              "      <td>-9.113872e-16</td>\n",
              "      <td>-3.978073e-16</td>\n",
              "      <td>-4.047292e-16</td>\n",
              "    </tr>\n",
              "    <tr>\n",
              "      <th>std</th>\n",
              "      <td>1.000612e+00</td>\n",
              "      <td>1.000612e+00</td>\n",
              "      <td>1.000612e+00</td>\n",
              "      <td>1.000612e+00</td>\n",
              "      <td>1.000612e+00</td>\n",
              "      <td>1.000612e+00</td>\n",
              "      <td>1.000612e+00</td>\n",
              "      <td>1.000612e+00</td>\n",
              "      <td>1.000612e+00</td>\n",
              "      <td>1.000612e+00</td>\n",
              "      <td>1.000612e+00</td>\n",
              "    </tr>\n",
              "    <tr>\n",
              "      <th>min</th>\n",
              "      <td>-2.231371e+00</td>\n",
              "      <td>-1.889216e+00</td>\n",
              "      <td>-1.399414e+00</td>\n",
              "      <td>-1.395048e+00</td>\n",
              "      <td>-1.605069e+00</td>\n",
              "      <td>-1.036818e+00</td>\n",
              "      <td>-1.083765e+00</td>\n",
              "      <td>-3.254561e+00</td>\n",
              "      <td>-3.740794e+00</td>\n",
              "      <td>-2.009679e+00</td>\n",
              "      <td>-2.043605e+00</td>\n",
              "    </tr>\n",
              "    <tr>\n",
              "      <th>25%</th>\n",
              "      <td>-7.400265e-01</td>\n",
              "      <td>-7.928090e-01</td>\n",
              "      <td>-9.979302e-01</td>\n",
              "      <td>-5.979098e-01</td>\n",
              "      <td>-4.139788e-01</td>\n",
              "      <td>-7.466022e-01</td>\n",
              "      <td>-7.712461e-01</td>\n",
              "      <td>-6.109311e-01</td>\n",
              "      <td>-6.826878e-01</td>\n",
              "      <td>-6.421073e-01</td>\n",
              "      <td>-8.012106e-01</td>\n",
              "    </tr>\n",
              "    <tr>\n",
              "      <th>50%</th>\n",
              "      <td>-1.970849e-01</td>\n",
              "      <td>-2.140730e-01</td>\n",
              "      <td>-2.681249e-03</td>\n",
              "      <td>-2.989829e-01</td>\n",
              "      <td>-2.254919e-01</td>\n",
              "      <td>-3.440619e-01</td>\n",
              "      <td>-3.377049e-01</td>\n",
              "      <td>2.272550e-02</td>\n",
              "      <td>-4.124577e-02</td>\n",
              "      <td>-1.294825e-01</td>\n",
              "      <td>-7.654297e-02</td>\n",
              "    </tr>\n",
              "    <tr>\n",
              "      <th>75%</th>\n",
              "      <td>6.163143e-01</td>\n",
              "      <td>5.670889e-01</td>\n",
              "      <td>8.346707e-01</td>\n",
              "      <td>1.992286e-01</td>\n",
              "      <td>3.463311e-02</td>\n",
              "      <td>3.877598e-01</td>\n",
              "      <td>4.456579e-01</td>\n",
              "      <td>6.152421e-01</td>\n",
              "      <td>6.599751e-01</td>\n",
              "      <td>4.963361e-01</td>\n",
              "      <td>6.898128e-01</td>\n",
              "    </tr>\n",
              "    <tr>\n",
              "      <th>max</th>\n",
              "      <td>4.211237e+00</td>\n",
              "      <td>4.049783e+00</td>\n",
              "      <td>3.522911e+00</td>\n",
              "      <td>6.177767e+00</td>\n",
              "      <td>1.057732e+01</td>\n",
              "      <td>5.197986e+00</td>\n",
              "      <td>4.138654e+00</td>\n",
              "      <td>3.563934e+00</td>\n",
              "      <td>3.339376e+00</td>\n",
              "      <td>8.333128e+00</td>\n",
              "      <td>2.894182e+00</td>\n",
              "    </tr>\n",
              "  </tbody>\n",
              "</table>\n",
              "</div>"
            ],
            "text/plain": [
              "       fixed acidity  volatile acidity  ...     sulphates       alcohol\n",
              "count   8.180000e+02      8.180000e+02  ...  8.180000e+02  8.180000e+02\n",
              "mean    5.192804e-16     -2.267949e-16  ... -3.978073e-16 -4.047292e-16\n",
              "std     1.000612e+00      1.000612e+00  ...  1.000612e+00  1.000612e+00\n",
              "min    -2.231371e+00     -1.889216e+00  ... -2.009679e+00 -2.043605e+00\n",
              "25%    -7.400265e-01     -7.928090e-01  ... -6.421073e-01 -8.012106e-01\n",
              "50%    -1.970849e-01     -2.140730e-01  ... -1.294825e-01 -7.654297e-02\n",
              "75%     6.163143e-01      5.670889e-01  ...  4.963361e-01  6.898128e-01\n",
              "max     4.211237e+00      4.049783e+00  ...  8.333128e+00  2.894182e+00\n",
              "\n",
              "[8 rows x 11 columns]"
            ]
          },
          "metadata": {},
          "execution_count": 14
        }
      ]
    },
    {
      "cell_type": "code",
      "metadata": {
        "colab": {
          "base_uri": "https://localhost:8080/"
        },
        "id": "MIY2aRFx3D7H",
        "outputId": "023af41b-e61d-4c30-892a-dda81c8cfb71"
      },
      "source": [
        "# Logistic eq\n",
        "lr=LogisticRegression(max_iter=10000,random_state=42,multi_class=\"ovr\", n_jobs=-1)\n",
        "wine_poly=lr.fit(X_train,y_train)\n",
        "print(wine_poly.score(X_train,y_train))\n",
        "print(wine_poly.score(X_test,y_test))"
      ],
      "execution_count": 15,
      "outputs": [
        {
          "output_type": "stream",
          "name": "stdout",
          "text": [
            "0.5777233782129743\n",
            "0.5806845965770171\n"
          ]
        }
      ]
    },
    {
      "cell_type": "code",
      "metadata": {
        "colab": {
          "base_uri": "https://localhost:8080/",
          "height": 471
        },
        "id": "luxAlKKZMrTE",
        "outputId": "35403cb8-2185-4e14-8005-5cea87f8bf7a"
      },
      "source": [
        "# Polynomial eq \n",
        "degree = 3\n",
        "print(\"degree: \", degree)\n",
        " \n",
        "poly = PolynomialFeatures(degree=degree,include_bias=False)\n",
        "X_train = poly.fit_transform(X_train)\n",
        "X_test = poly.fit_transform(X_test)\n",
        "\n",
        "pmodel = LogisticRegression(max_iter=100, random_state=42, multi_class=\"ovr\", n_jobs=-1, verbose=1)\n",
        "pmodel.fit(X_train, y_train)\n",
        "print(\"Training metrics: \", pmodel.score(X_train, y_train))\n",
        "print(\"Testing metrics: \", pmodel.score(X_test, y_test))\n",
        "y_pred = pmodel.predict(X_test)\n",
        "print(\"\\n\\n\")\n",
        " \n",
        "x_axis_values = [i for i in range(y_test.shape[0])]\n",
        " \n",
        "plt.figure(figsize=(12, 5))\n",
        "plt.title(\"True values Vs Prediction values\", fontsize=14)\n",
        "plt.scatter(x=x_axis_values, y=y_test, label=\"True value\", color='b', alpha=1)\n",
        "plt.scatter(x=x_axis_values, y=y_pred, label=\"Prediction\", color='r', alpha=0.5)\n",
        "plt.ylabel(\"Quality\")\n",
        "plt.legend() \n",
        "plt.show()"
      ],
      "execution_count": 16,
      "outputs": [
        {
          "output_type": "stream",
          "name": "stdout",
          "text": [
            "degree:  3\n"
          ]
        },
        {
          "output_type": "stream",
          "name": "stderr",
          "text": [
            "[Parallel(n_jobs=-1)]: Using backend LokyBackend with 2 concurrent workers.\n",
            "[Parallel(n_jobs=-1)]: Done   6 out of   6 | elapsed:    8.4s finished\n"
          ]
        },
        {
          "output_type": "stream",
          "name": "stdout",
          "text": [
            "Training metrics:  0.8873929008567931\n",
            "Testing metrics:  0.8349633251833741\n",
            "\n",
            "\n",
            "\n"
          ]
        },
        {
          "output_type": "display_data",
          "data": {
            "image/png": "[encoded data removed]",
            "text/plain": [
              "<Figure size 864x360 with 1 Axes>"
            ]
          },
          "metadata": {
            "needs_background": "light"
          }
        }
      ]
    }
  ]
}